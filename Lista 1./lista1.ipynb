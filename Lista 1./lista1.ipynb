{
 "cells": [
  {
   "cell_type": "markdown",
   "metadata": {},
   "source": [
    "# Lista 1\n",
    "\n",
    "## Kurs wybranego języka programowania (Python)\n",
    "\n",
    "Wszystkie rozwiązania proszę wpisać w tym notatniku poniżej treści zadań. Zadania z `*` to zadania dodatkowe."
   ]
  },
  {
   "cell_type": "markdown",
   "metadata": {},
   "source": [
    "## Zadanie 1 _(5pt)_\n",
    "\n",
    "Napisz funkcję, który wyświetla trójkąt Pascala o zadanej wysokości\n",
    "```\n",
    "                1\n",
    "              1   1\n",
    "            1   2   1\n",
    "          1   3   3   1\n",
    "        1   4   6   4   1\n",
    "      .....................\n",
    "```"
   ]
  },
  {
   "cell_type": "code",
   "execution_count": 9,
   "metadata": {},
   "outputs": [
    {
     "name": "stdout",
     "output_type": "stream",
     "text": [
      "          1\n",
      "        1   1\n",
      "      1   2   1\n",
      "    1   3   3   1\n",
      "  1   4   6   4   1\n"
     ]
    }
   ],
   "source": [
    "def printing_pascal_triangle(height):\n",
    "    tab = []\n",
    "    if height < 0:\n",
    "        return \"Niepoprawna wysokość trójkąta Pascala!\"\n",
    "    for i in range(height):\n",
    "        tab.append([])\n",
    "        tab[i].append(1)\n",
    "        for j in range(1, i):\n",
    "            tab[i].append(tab[i-1][j-1]+tab[i-1][j])\n",
    "        if i!= 0:\n",
    "            tab[i].append(1)\n",
    "            \n",
    "    n = len(tab)\n",
    "    for i in range(n):\n",
    "        print((n-i)* \"  \" + '   '.join(map(str, tab[i])))  \n",
    "\n",
    "printing_pascal_triangle(5)"
   ]
  },
  {
   "cell_type": "markdown",
   "metadata": {},
   "source": [
    "## Zadanie 2 _(5pt)_\n",
    "\n",
    "Napisz funkcję `primes(n)` zwracająca listę liczb pierwszych nie większych niż $n$ np.\n",
    "\n",
    "```\n",
    "In [ ]:   primes(6)\n",
    "Out [ ]: [2, 3, 5]\n",
    "```"
   ]
  },
  {
   "cell_type": "code",
   "execution_count": 11,
   "metadata": {},
   "outputs": [
    {
     "data": {
      "text/plain": [
       "[2, 3, 5]"
      ]
     },
     "execution_count": 11,
     "metadata": {},
     "output_type": "execute_result"
    }
   ],
   "source": [
    "import math\n",
    "\n",
    "def primes(n):\n",
    "    prime_numbers = []\n",
    "    for i in range(2, n):\n",
    "        if all(i % j > 0 for j in range(2, int(math.sqrt(i) + 1))):\n",
    "            prime_numbers.append(i)\n",
    "    return prime_numbers\n",
    "\n",
    "primes(6)"
   ]
  },
  {
   "cell_type": "markdown",
   "metadata": {},
   "source": [
    "## Zadanie 3 _(5pt)_\n",
    "\n",
    "Napisz funkcje, która usuwa wszystkie powtarzające się elementy z listy (tak, że każdy element występuje tylko raz) np. z listy `[1,1,2,2,2,3,3,5,5,5,4,4,4,0]` dostajemy `[1,2,3,5,4,0]`."
   ]
  },
  {
   "cell_type": "code",
   "execution_count": 7,
   "metadata": {},
   "outputs": [
    {
     "data": {
      "text/plain": [
       "[1, 2, 3, 5, 4, 0]"
      ]
     },
     "execution_count": 7,
     "metadata": {},
     "output_type": "execute_result"
    }
   ],
   "source": [
    "from collections import OrderedDict\n",
    "\n",
    "def delete_duplicates(x:list):\n",
    "    after_removing = list(OrderedDict.fromkeys(x))\n",
    "    return after_removing\n",
    "\n",
    "delete_duplicates([1,1,2,2,2,3,3,5,5,5,4,4,4,0])"
   ]
  },
  {
   "cell_type": "markdown",
   "metadata": {},
   "source": [
    "## Zadanie 4 _(10pt)_\n",
    "\n",
    "Napisz funkcję `prime_factors(n)`, która rozkłada $n$ na czynniki pierwsze i jako wynik wraca listę par $[(p_1,\\alpha_1), (p_2,\\alpha_2), \\ldots, (p_k, \\alpha_k)]$ taką, że $p_1^{\\alpha_1}p_2^{\\alpha_2}\\ldots p_k^{\\alpha_k}$.\n"
   ]
  },
  {
   "cell_type": "code",
   "execution_count": 13,
   "metadata": {},
   "outputs": [
    {
     "data": {
      "text/plain": [
       "[(2, 2), (5, 1)]"
      ]
     },
     "execution_count": 13,
     "metadata": {},
     "output_type": "execute_result"
    }
   ],
   "source": [
    "def prime_factors(n):\n",
    "    pairs = []\n",
    "    for p in primes(n):\n",
    "        counter = 0\n",
    "        while n % p == 0:\n",
    "            n /= p\n",
    "            counter += 1\n",
    "        if counter > 0:\n",
    "            pairs.append((p, counter))\n",
    "    return pairs\n",
    "\n",
    "prime_factors(20)"
   ]
  },
  {
   "cell_type": "markdown",
   "metadata": {},
   "source": [
    "## Zadanie 5 _(10pt)_\n",
    "\n",
    "Napisz funkcję `fraczero(n)` liczącą silnie $n!$ dla $n$ od $0$ do $10000$ oraz jako wynik wraca liczbę zer na końcu $n!$."
   ]
  },
  {
   "cell_type": "code",
   "execution_count": 14,
   "metadata": {},
   "outputs": [
    {
     "name": "stdout",
     "output_type": "stream",
     "text": [
      "249\n"
     ]
    }
   ],
   "source": [
    "def faczero(n):\n",
    "    zeros_number = 0\n",
    "    if n <= 0 or n > 10000:\n",
    "        return \"Niepoprawna wartość liczby n\"\n",
    "    while n > 0:\n",
    "        n //= 5\n",
    "        zeros_number += n\n",
    "    return zeros_number\n",
    "\n",
    "print(faczero(1000))"
   ]
  },
  {
   "cell_type": "markdown",
   "metadata": {},
   "source": [
    "## Zadanie 6 _(10pt)_\n",
    "\n",
    "Napisz program, który generuje liczbę $20$ liczb losowych (rozkład jednostajny) od $1$ do $100$\n",
    "* Wyświetl listę wygenerowanych liczb\n",
    "* Wyświetl średnią\n",
    "* Wyświetl największą i najmniejszą wartość\n",
    "* Wyświetl drugą największą i drugą najmniejszą wartość na liście\n",
    "* Wyświetl ile jest liczb parzystych na liście\n",
    " "
   ]
  },
  {
   "cell_type": "code",
   "execution_count": 15,
   "metadata": {},
   "outputs": [
    {
     "name": "stdout",
     "output_type": "stream",
     "text": [
      "Lista wygenerowanych liczb: [50, 20, 4, 21, 49, 6, 16, 36, 68, 18, 33, 42, 92, 9, 27, 33, 2, 12, 12, 39]\n",
      "Średnia: 29.45\n",
      "Największa i najmniejsza wartość: 92 and 2\n",
      "2ga największa i 2ga najmniejsza wartośc na liście: 68 and 4\n",
      "Ilość liczb parzystych: 13\n"
     ]
    }
   ],
   "source": [
    "from random import randint\n",
    "from statistics import mean\n",
    "\n",
    "generated_numbers = [ randint(1,100) for i in range(20) ]\n",
    "\n",
    "print(f\"Lista wygenerowanych liczb: {generated_numbers}\")\n",
    "print(f\"Średnia: {mean(generated_numbers)}\")\n",
    "print(f\"Największa i najmniejsza wartość: {max(generated_numbers)} and {min(generated_numbers)}\")\n",
    "print(f\"2ga największa i 2ga najmniejsza wartośc na liście: {sorted(generated_numbers)[-2]} and {sorted(generated_numbers)[1]}\")\n",
    "print(f\"Ilość liczb parzystych: {sum(1 for i in generated_numbers if i%2 == 0)}\")"
   ]
  },
  {
   "cell_type": "markdown",
   "metadata": {},
   "source": [
    "## Zadanie 7 _(10pt)_\n",
    "\n",
    "Załóżmy, że mamy następującą listę: `L = ['aababacaa', 'cabaabcca', 'aaabbcbacb', 'acababbaab', ...]` wygenerowaną losowo tzn. lista zawiera losowe ciągi znaków o zadanej długości z liter `'a'`, `'b'` i `'c'`. Takie wzorce występują w wielu miejscach np. sekwencje DNA. Użytkownik zawiera swój (wzorzec) ciąg znaków z literami i pustymi miejscami oznaczonymi przez `'*'` np. `\"a**a******\"`. Wykorzystaj słownik z kluczami zawierającymi indeksy znaków różnych od `'*'` i wartościami liter z wzorca. Napisz program, który znajduje wszystkie sekwencje z listy, które pasuje do podanego wzorca."
   ]
  },
  {
   "cell_type": "code",
   "execution_count": 6,
   "metadata": {},
   "outputs": [
    {
     "name": "stdout",
     "output_type": "stream",
     "text": [
      "['aababacaa', 'abcabcbbba', 'accaacacab']\n"
     ]
    }
   ],
   "source": [
    "from typing import List\n",
    "\n",
    "def find_pattern(pattern: str, data: List[str]):\n",
    "    keys = [ (i, letter) for i, letter in enumerate(pattern) if letter != \"*\"]\n",
    "    dictionary = dict(keys)\n",
    "    outcome = [ strings for strings in data if \n",
    "        all(strings[i] == letter for i, letter in dictionary.items()) ]\n",
    "    return outcome\n",
    "\n",
    "L = ['aababacaa', 'cabaabcca', 'abcabcbbba', 'aaabbcbacb', 'acababbaab', 'accaacacab']\n",
    "pattern = \"a**a******\"\n",
    "\n",
    "print(find_pattern(pattern, L))"
   ]
  },
  {
   "cell_type": "markdown",
   "metadata": {},
   "source": [
    "## Zadanie 8 _(10pt)_\n",
    "\n",
    "Napisz program, który konwerteruje liczby rzymskie na liczby arabskie. Do zapisu liczb rzymskich używa\n",
    "się 7 liter: `I=1`, `V=5`, `X=10`, `L=50`, `C=100`, `D=500`, `M=1000`. Opis algorytmu zamiany z i na system rzymski można znaleźć np. [tutaj](http://www.algorytm.org/algorytmy-arytmetyczne/zamiana-z-i-na-system-rzymski.html)"
   ]
  },
  {
   "cell_type": "code",
   "execution_count": 15,
   "metadata": {},
   "outputs": [
    {
     "data": {
      "text/plain": [
       "1600"
      ]
     },
     "execution_count": 15,
     "metadata": {},
     "output_type": "execute_result"
    }
   ],
   "source": [
    "def roman2arabic(roman):\n",
    "    roman_symbol_map = (('M', 1000, 3), ('CM', 900, 1), ('D', 500, 1), ('CD', 400, 1),\n",
    "        ('C', 100, 3), ('XC', 90, 1), ('L', 50, 1), ('XL', 40, 1),('X', 10, 3), ('IX', 9, 1),\n",
    "        ('V', 5, 1), ('IV', 4, 1), ('I', 1, 3))    \n",
    "    \n",
    "    res, idx = 0, 0\n",
    "    for symbol, arabicvalue, use_maxnumber in roman_symbol_map:\n",
    "        counter = 0\n",
    "        while roman[idx: idx+len(symbol)] == symbol:\n",
    "            counter += 1 \n",
    "            if counter > use_maxnumber: \n",
    "                return \"Zły format liczby rzymskiej!!\"\n",
    "            res += arabicvalue\n",
    "            idx += len(symbol)\n",
    "    if idx < len(roman): \n",
    "        return \"Zły format liczby rzymskiej!!\"\n",
    "    return res\n",
    "\n",
    "roman2arabic(\"MDC\")"
   ]
  },
  {
   "cell_type": "markdown",
   "metadata": {},
   "source": [
    "## Zadanie 9* _(5pt)_\n",
    "\n",
    "Napisz program kalkulator, który pobiera wprowadzone wartości oraz funkcje z klawiatury następnie podaje wynik. W przypadku błędnych danych zgłasza błąd.\n",
    "\n",
    "Przykładowa sesja:\n",
    "```\n",
    "    Kalkulator\n",
    "    [1]: 2+5*10\n",
    "        52\n",
    "    [2]: sin(0.5)+cos(0.3)\n",
    "        1.434762027729809\n",
    "    [3]: 2^100\n",
    "        1267650600228229401496703205376\n",
    "```\n",
    "\n",
    "Przykładowy kod pobierania danych od użytkownika:\n",
    "\n",
    "```\n",
    "    x = input('Podaj x = ')\n",
    "```"
   ]
  },
  {
   "cell_type": "code",
   "execution_count": 17,
   "metadata": {},
   "outputs": [
    {
     "name": "stdout",
     "output_type": "stream",
     "text": [
      "KALKULATOR\n",
      "Podaj wyrażenie:sin(0.5)+cos(0.3)\n"
     ]
    },
    {
     "data": {
      "text/plain": [
       "1.434762027729809"
      ]
     },
     "execution_count": 17,
     "metadata": {},
     "output_type": "execute_result"
    }
   ],
   "source": [
    "from math import *\n",
    "print(\"KALKULATOR\")\n",
    "eval(input(\"Podaj wyrażenie:\").replace(\"^\", \"**\"))"
   ]
  },
  {
   "cell_type": "markdown",
   "metadata": {},
   "source": [
    "\n",
    "## Zadanie 10* _(10pt)_\n",
    "\n",
    "Napisz program, który rysuje na ekranie w trybie znakowym wykres funkcji zmiennej $x$. Wskazówka: utwórz  ,,tablicę dwuwymiarową'' o wymiarach 80x24 i narysuj wykres w tej tablicy. Następnie wynik wyświetl na ekranie.\n",
    "\n",
    "```\n",
    "        Podaj funkcje f(x) = sin(x)\n",
    "        Podaj początek przedziału a = -pi\n",
    "        Podaj koniec przedziału b = pi\n",
    "                                                |\n",
    "                                                |\n",
    "                                                |              ***********\n",
    "                                                |           ***           ***\n",
    "                                                |         **                 **\n",
    "                                                |        *                     *\n",
    "                                                |      **                       **\n",
    "                                                |     *                           *\n",
    "                                                |   **                             **\n",
    "                                                |  *                                 *\n",
    "                                                | *                                   *\n",
    "                                                |*                                     *\n",
    "        ----------------------------------------|---------------------------------------\n",
    "          *                                   * |\n",
    "           *                                 *  |\n",
    "            **                             **   |\n",
    "              *                           *     |\n",
    "               **                       **      |\n",
    "                 *                     *        |\n",
    "                  **                 **         |\n",
    "                    ***           ***           |\n",
    "                       ***** *****              |\n",
    "                            *                   |\n",
    "                                                |\n",
    "```"
   ]
  },
  {
   "cell_type": "code",
   "execution_count": 26,
   "metadata": {},
   "outputs": [
    {
     "name": "stdout",
     "output_type": "stream",
     "text": [
      "                                       |                   *                    \n",
      "                                       |              ***** *****               \n",
      "                                       |            **           **             \n",
      "                                       |          **               **           \n",
      "                                       |         *                   **         \n",
      "                                       |        *                      *        \n",
      "                                       |      **                        *       \n",
      "                                       |     *                           *      \n",
      "                                       |    *                             **    \n",
      "                                       |   *                                *   \n",
      "                                       |  *                                  *  \n",
      "                                       | *                                    * \n",
      "---------------------------------------|----------------------------------------\n",
      " *                                    *|                                        \n",
      "  *                                  * |                                        \n",
      "   *                                *  |                                        \n",
      "    **                             *   |                                        \n",
      "      *                           *    |                                        \n",
      "       *                        **     |                                        \n",
      "        *                      *       |                                        \n",
      "         **                   *        |                                        \n",
      "           **               **         |                                        \n",
      "             **           **           |                                        \n",
      "               ***********             |                                        \n"
     ]
    }
   ],
   "source": [
    "from math import *\n",
    "from numpy import linspace\n",
    "\n",
    "s_width = 80\n",
    "s_height = 24\n",
    "\n",
    "def drawing():\n",
    "    screen = [[\" \" for _ in range(s_width)] for _ in range(s_height)]\n",
    "    \n",
    "    f = lambda x: sin(x)\n",
    "    a = -pi\n",
    "    b = pi\n",
    "    if a >= b:\n",
    "        return \"Podałeś zły przedział !\"\n",
    "    interval = b - a\n",
    "\n",
    "    values = [f(x) for x in linspace(a, b, num=s_width)]\n",
    "    arguments = linspace(0, s_width, num=s_width)\n",
    "    horizontal_axis = floor((s_width - 1) / interval * (0 - a))\n",
    "    vertical_axis = floor((s_height - 1) / (max(values) - min(values)) * (0 - min(values)))\n",
    "\n",
    "    for i, val in enumerate(values):\n",
    "        single_row = screen[floor((s_height - 1) / (max(values) - min(values)) * (val - min(values)))]\n",
    "        single_row[i] = \"*\"\n",
    "\n",
    "    if vertical_axis in range(s_height):\n",
    "        for i in range(len(screen[vertical_axis])):\n",
    "            screen[vertical_axis][i] = \"-\"\n",
    "\n",
    "    if horizontal_axis in range(s_width):\n",
    "        for single_row in screen:\n",
    "            single_row[horizontal_axis] = \"|\"\n",
    "            \n",
    "    for row in reversed(screen):\n",
    "        line = \"\".join(row)\n",
    "        print(line)\n",
    "        \n",
    "drawing()"
   ]
  },
  {
   "cell_type": "code",
   "execution_count": null,
   "metadata": {},
   "outputs": [],
   "source": []
  },
  {
   "cell_type": "code",
   "execution_count": null,
   "metadata": {},
   "outputs": [],
   "source": []
  }
 ],
 "metadata": {
  "kernelspec": {
   "display_name": "Python 3",
   "language": "python",
   "name": "python3"
  },
  "language_info": {
   "codemirror_mode": {
    "name": "ipython",
    "version": 3
   },
   "file_extension": ".py",
   "mimetype": "text/x-python",
   "name": "python",
   "nbconvert_exporter": "python",
   "pygments_lexer": "ipython3",
   "version": "3.6.9"
  }
 },
 "nbformat": 4,
 "nbformat_minor": 2
}
